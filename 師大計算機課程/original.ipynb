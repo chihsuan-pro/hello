{
 "cells": [
  {
   "cell_type": "markdown",
   "metadata": {
    "colab_type": "text",
    "id": "xUA3bQ9k4bQ4"
   },
   "source": [
    "# 讀入函式庫"
   ]
  },
  {
   "cell_type": "code",
   "execution_count": null,
   "metadata": {},
   "outputs": [],
   "source": [
    "from math import *\n",
    "from PIL import Image\n",
    "import matplotlib.pyplot as plt\n",
    "import numpy as np"
   ]
  },
  {
   "cell_type": "markdown",
   "metadata": {},
   "source": [
    "# 了解圖片的基本格式"
   ]
  },
  {
   "cell_type": "markdown",
   "metadata": {
    "colab_type": "text",
    "id": "HBYOVGerM9vz"
   },
   "source": [
    "# 了解影像在電腦呈現的方式"
   ]
  },
  {
   "cell_type": "markdown",
   "metadata": {
    "colab_type": "text",
    "id": "N3i4c9v_NF82"
   },
   "source": [
    "在一個20X20的方格紙中，在指定的方格中塗上色塊進而形成圖案"
   ]
  },
  {
   "cell_type": "markdown",
   "metadata": {
    "colab_type": "text",
    "id": "t1RIg256NxGE"
   },
   "source": [
    "利用excel畫圖"
   ]
  },
  {
   "cell_type": "code",
   "execution_count": null,
   "metadata": {
    "colab": {
     "base_uri": "https://localhost:8080/",
     "height": 285
    },
    "colab_type": "code",
    "id": "j-tJxG41TX4Q",
    "outputId": "435476a2-403b-45a2-c340-8ca02029a455"
   },
   "outputs": [],
   "source": [
    "img = np.genfromtxt('gradent.csv',delimiter=',',usecols=[1,2,3,4,5,6,7,8,9])\n",
    "print(img)\n",
    "plt.imshow(img,cmap = 'gray')"
   ]
  },
  {
   "cell_type": "code",
   "execution_count": null,
   "metadata": {
    "colab": {
     "base_uri": "https://localhost:8080/",
     "height": 102
    },
    "colab_type": "code",
    "id": "ACPW-yGgKo0Q",
    "outputId": "365a7da6-a930-46d7-8049-3f3b15f13e76"
   },
   "outputs": [],
   "source": [
    "plt.imshow([img[0]],cmap = 'gray')"
   ]
  },
  {
   "cell_type": "code",
   "execution_count": null,
   "metadata": {
    "colab": {
     "base_uri": "https://localhost:8080/",
     "height": 581
    },
    "colab_type": "code",
    "id": "Uv7zdeglUhq2",
    "outputId": "8ab1af31-ce20-4dfb-b842-3d340915abfd"
   },
   "outputs": [],
   "source": [
    "img = np.genfromtxt('h.csv',delimiter=',')\n",
    "print(img)\n",
    "plt.imshow(img,cmap = 'gray')"
   ]
  },
  {
   "cell_type": "code",
   "execution_count": null,
   "metadata": {
    "colab": {
     "base_uri": "https://localhost:8080/",
     "height": 458
    },
    "colab_type": "code",
    "id": "ffqAMvXeuzA0",
    "outputId": "7b530cb4-1dac-448f-9dd6-7accc7d999e7"
   },
   "outputs": [],
   "source": [
    "img = np.genfromtxt('H_ - 工作表1.csv',delimiter=',')\n",
    "print(img)\n",
    "(plt\n",
    " .imshow(img,cmap = 'binary')\n",
    " )"
   ]
  },
  {
   "cell_type": "markdown",
   "metadata": {
    "colab_type": "text",
    "id": "Te9m0qiQ8o8-"
   },
   "source": [
    "# 程式開始"
   ]
  },
  {
   "cell_type": "markdown",
   "metadata": {},
   "source": [
    "## 開啟圖片"
   ]
  },
  {
   "cell_type": "code",
   "execution_count": null,
   "metadata": {},
   "outputs": [],
   "source": [
    "img_cat = Image.open('cat.jpg')"
   ]
  },
  {
   "cell_type": "markdown",
   "metadata": {},
   "source": [
    "## 圖片大小"
   ]
  },
  {
   "cell_type": "code",
   "execution_count": null,
   "metadata": {
    "colab": {
     "base_uri": "https://localhost:8080/",
     "height": 604
    },
    "colab_type": "code",
    "id": "liz_iUIL2VO7",
    "outputId": "d8ffff22-7080-4676-e355-3517b34203b6"
   },
   "outputs": [],
   "source": [
    "print(img_cat.size)"
   ]
  },
  {
   "cell_type": "markdown",
   "metadata": {},
   "source": [
    "## 顯示圖片"
   ]
  },
  {
   "cell_type": "code",
   "execution_count": null,
   "metadata": {},
   "outputs": [],
   "source": [
    "plt.imshow(img_cat);"
   ]
  },
  {
   "cell_type": "markdown",
   "metadata": {
    "colab_type": "text",
    "id": "jnJgJPAXWBAd"
   },
   "source": [
    "## 開新圖片"
   ]
  },
  {
   "cell_type": "markdown",
   "metadata": {},
   "source": [
    "mode 說明：\n",
    "```python\n",
    "new = Image.new(<mode>,size = (20,20))\n",
    "# mode\n",
    "# L：黑白\n",
    "# RGB：彩色圖片\n",
    "```"
   ]
  },
  {
   "cell_type": "code",
   "execution_count": null,
   "metadata": {
    "colab": {
     "base_uri": "https://localhost:8080/",
     "height": 70
    },
    "colab_type": "code",
    "id": "ydyySh8JWD3m",
    "outputId": "14f8044e-98c1-4edd-f736-1c4dafed4766"
   },
   "outputs": [],
   "source": [
    "new = Image.new(\"L\",size = (20,20)) \n",
    "new\n",
    "print('type',type(new))\n",
    "print('size',new.size)\n",
    "print('mode',new.mode)"
   ]
  },
  {
   "cell_type": "code",
   "execution_count": null,
   "metadata": {
    "colab": {
     "base_uri": "https://localhost:8080/",
     "height": 90
    },
    "colab_type": "code",
    "id": "MPRdQ8I-WZ4M",
    "outputId": "ca091043-90b7-4829-ca7a-1e4f12eb363f"
   },
   "outputs": [],
   "source": [
    "new = Image.new(\"RGB\",size = (20,20))\n",
    "print('type',type(new))\n",
    "print('size',new.size)\n",
    "print('mode',new.mode)\n",
    "new"
   ]
  },
  {
   "cell_type": "markdown",
   "metadata": {
    "colab_type": "text",
    "id": "r6gePAsSz9SJ"
   },
   "source": [
    "## 填色塊 putpixel()"
   ]
  },
  {
   "cell_type": "markdown",
   "metadata": {
    "colab_type": "text",
    "id": "l-iOSRKvg_j7"
   },
   "source": [
    "### 怎麼put?\n",
    "> 給位置，給顏色"
   ]
  },
  {
   "cell_type": "code",
   "execution_count": null,
   "metadata": {
    "colab": {
     "base_uri": "https://localhost:8080/",
     "height": 37
    },
    "colab_type": "code",
    "id": "dp4IIJl3hC1A",
    "outputId": "4ae49513-2ec2-46e6-8fc9-8f072193c703"
   },
   "outputs": [],
   "source": [
    "new = Image.new(\"RGB\",(20,20),(0,0,0))\n",
    "new"
   ]
  },
  {
   "cell_type": "code",
   "execution_count": null,
   "metadata": {
    "colab": {
     "base_uri": "https://localhost:8080/",
     "height": 37
    },
    "colab_type": "code",
    "id": "uoWOm6AHhK7B",
    "outputId": "ad4c6da7-8c5e-442b-f320-43fab7fe8551"
   },
   "outputs": [],
   "source": [
    "new.putpixel((10,10),(255,255,255))\n",
    "new"
   ]
  },
  {
   "cell_type": "markdown",
   "metadata": {
    "colab_type": "text",
    "id": "rXrAp0W3G5xv"
   },
   "source": [
    "### 超過255怎麼辦？"
   ]
  },
  {
   "cell_type": "code",
   "execution_count": null,
   "metadata": {
    "colab": {
     "base_uri": "https://localhost:8080/",
     "height": 320
    },
    "colab_type": "code",
    "id": "PBU4_K4YGgrD",
    "outputId": "05180173-9cb9-4b74-cafd-f2d7cd67c05a"
   },
   "outputs": [],
   "source": [
    "# 加上三組 []\n",
    "plt.imshow([[[300, 300, 300]]])"
   ]
  },
  {
   "cell_type": "markdown",
   "metadata": {
    "colab_type": "text",
    "id": "DTQdx50oHAab"
   },
   "source": [
    "### 小於0怎麼辦？"
   ]
  },
  {
   "cell_type": "code",
   "execution_count": null,
   "metadata": {
    "colab": {
     "base_uri": "https://localhost:8080/",
     "height": 320
    },
    "colab_type": "code",
    "id": "RLQGpzCsHCm6",
    "outputId": "3f9164b2-b1c4-4b64-bb9d-4b0f7ab91bf6"
   },
   "outputs": [],
   "source": [
    "# 加上三組 []\n",
    "plt.imshow([[[-1, -1, -1]]])"
   ]
  },
  {
   "cell_type": "markdown",
   "metadata": {
    "colab_type": "text",
    "id": "i7tq5QadLWP-"
   },
   "source": [
    "### 非整數怎麼辦？"
   ]
  },
  {
   "cell_type": "code",
   "execution_count": null,
   "metadata": {
    "colab": {
     "base_uri": "https://localhost:8080/",
     "height": 320
    },
    "colab_type": "code",
    "id": "5CESCXIgLY8L",
    "outputId": "69a68e06-7a7c-440a-e51b-d58a8179b222"
   },
   "outputs": [],
   "source": [
    "# 加上三組 []\n",
    "plt.imshow([[[200.5, 200.5, 200.5]]])"
   ]
  },
  {
   "cell_type": "markdown",
   "metadata": {
    "colab_type": "text",
    "id": "TjQ6gvPU7zIM"
   },
   "source": [
    "## 用putpixel的方法製作圖樣"
   ]
  },
  {
   "cell_type": "code",
   "execution_count": null,
   "metadata": {
    "colab": {
     "base_uri": "https://localhost:8080/",
     "height": 282
    },
    "colab_type": "code",
    "id": "g_3EGY8D0IrX",
    "outputId": "da476fcf-6a5e-4457-ad1d-265a9f7e636f"
   },
   "outputs": [],
   "source": [
    "# 開新一張大小為20X20，全黑的圖片\n",
    "width = 20\n",
    "height = 20\n",
    "new = Image.new(\"L\",(width,height),(0)) \n",
    "m,n = new.size\n",
    "print(f'width:{m},height:{n}')\n",
    "\n",
    "# 二條直線 (2,2) -> (2,18)、(17,2) -> (17,18)\n",
    "for i in range(2,19):\n",
    "    new.putpixel((2,i),255)\n",
    "    new.putpixel((17,i),255)\n",
    "for i in range(3,17):\n",
    "    new.putpixel((i,10),255)\n",
    "\n",
    "plt.imshow(new,cmap = 'gray')\n",
    "\n"
   ]
  },
  {
   "cell_type": "code",
   "execution_count": null,
   "metadata": {
    "colab": {
     "base_uri": "https://localhost:8080/",
     "height": 651
    },
    "colab_type": "code",
    "id": "heBngXmI4Uh9",
    "outputId": "8b24a9ef-3f28-4447-e546-e2247545ee21"
   },
   "outputs": [],
   "source": [
    "width = 20\n",
    "height = 20\n",
    "# 開新一張大小為20X20，全黑的圖片\n",
    "new = Image.new(\"L\",(width,height),(0)) \n",
    "\n",
    "print(f'width:{width},height:{height}')\n",
    "\n",
    "for i in range(0,20):\n",
    "    new.putpixel((i,i),255)\n",
    "    print(f'在({i},{i})的地方改變像素顏色為255')\n",
    "\n",
    "plt.imshow(new,cmap = 'gray')\n"
   ]
  },
  {
   "cell_type": "code",
   "execution_count": null,
   "metadata": {
    "colab": {
     "base_uri": "https://localhost:8080/",
     "height": 300
    },
    "colab_type": "code",
    "id": "Jtw3WUjz5MI6",
    "outputId": "f72e6c6b-b925-493b-edbe-0d469a87be11"
   },
   "outputs": [],
   "source": [
    "width = 20\n",
    "height = 20\n",
    "# 開新一張大小為20X20，全黑的圖片\n",
    "new = Image.new(\"L\",(width,height),(0)) \n",
    "\n",
    "print(f'width:{width},height:{height}')\n",
    "\n",
    "for h in range(0,8): # 樹的高度從上而下為0~8\n",
    "    for w in range(10-h,10+h+1): # 樹的寬度由高度決定\n",
    "        new.putpixel((w,h),255)\n",
    "for h in range(8,18):\n",
    "    for w in range(10-1,10+1+1):\n",
    "        new.putpixel((w,h),255)\n",
    "plt.imshow(new,cmap = 'gray')\n"
   ]
  },
  {
   "cell_type": "markdown",
   "metadata": {
    "colab_type": "text",
    "id": "HItd8OezO_oJ"
   },
   "source": [
    "練習：填色塊形成數字0~9"
   ]
  },
  {
   "cell_type": "markdown",
   "metadata": {
    "colab_type": "text",
    "id": "48ZegJh6PPOV"
   },
   "source": [
    "## 開啟圖片\n",
    "Image.open({檔案路徑})"
   ]
  },
  {
   "cell_type": "code",
   "execution_count": null,
   "metadata": {
    "colab": {
     "base_uri": "https://localhost:8080/",
     "height": 379
    },
    "colab_type": "code",
    "id": "uGJ6v_xSQMBC",
    "outputId": "05be0c11-4276-4592-eda6-ce3d3471a0c8"
   },
   "outputs": [],
   "source": [
    "img_cat = Image.open('cat.jpg')\n",
    "img_cat\n"
   ]
  },
  {
   "cell_type": "markdown",
   "metadata": {
    "colab_type": "text",
    "id": "XEfRK7mVQeXO"
   },
   "source": [
    "## 了解一些圖片的參數、規格"
   ]
  },
  {
   "cell_type": "code",
   "execution_count": null,
   "metadata": {
    "colab": {
     "base_uri": "https://localhost:8080/",
     "height": 142
    },
    "colab_type": "code",
    "id": "SNQQQyogQwNn",
    "outputId": "4efa6722-9bd6-4e69-b3e5-8e1578f6767b"
   },
   "outputs": [],
   "source": [
    "img_cat = Image.open('taipei.jpg')\n",
    "print('type',type(img_cat))\n",
    "print('size',img_cat.size)\n",
    "print('format',img_cat.format)\n",
    "print('getexif()',img_cat.getexif())\n",
    "print('info',img_cat.info)\n",
    "print('mode',img_cat.mode)\n"
   ]
  },
  {
   "cell_type": "markdown",
   "metadata": {
    "colab_type": "text",
    "id": "bubgjP6nbEY_"
   },
   "source": [
    "## 取得色塊資訊 getpixel() get到了什麼？"
   ]
  },
  {
   "cell_type": "code",
   "execution_count": null,
   "metadata": {
    "colab": {
     "base_uri": "https://localhost:8080/",
     "height": 250
    },
    "colab_type": "code",
    "id": "t7QnKONibRxv",
    "outputId": "1ec22768-44d6-4879-d02a-ff84bd6b8102"
   },
   "outputs": [],
   "source": [
    "img_cat = Image.open('cat.jpg')\n",
    "width,height = img_cat.size\n",
    "print(f'width:{width},height:{height}')\n",
    "\n",
    "plt.imshow(img_cat)"
   ]
  },
  {
   "cell_type": "code",
   "execution_count": null,
   "metadata": {
    "colab": {
     "base_uri": "https://localhost:8080/",
     "height": 34
    },
    "colab_type": "code",
    "id": "XrfTK6dAbqDA",
    "outputId": "8dc0a9f4-6288-4273-85b9-8b7cfd19b25a"
   },
   "outputs": [],
   "source": [
    "img_cat.getpixel((100,100))\n"
   ]
  },
  {
   "cell_type": "markdown",
   "metadata": {
    "colab_type": "text",
    "id": "2Btg9VfydbSM"
   },
   "source": [
    "## 怎麼看這串數字代表的顏色"
   ]
  },
  {
   "cell_type": "code",
   "execution_count": null,
   "metadata": {
    "colab": {
     "base_uri": "https://localhost:8080/",
     "height": 282
    },
    "colab_type": "code",
    "id": "65UXe3rab1tU",
    "outputId": "7d9e2773-49fe-46af-8d34-a0e4bf89f2cd"
   },
   "outputs": [],
   "source": [
    "# 加上三組 []\n",
    "plt.imshow([[[87, 108, 7]]])"
   ]
  },
  {
   "cell_type": "markdown",
   "metadata": {
    "colab_type": "text",
    "id": "1kMlpeWbdohc"
   },
   "source": [
    "## 怎麼分別取出這三個數字"
   ]
  },
  {
   "cell_type": "code",
   "execution_count": null,
   "metadata": {
    "colab": {
     "base_uri": "https://localhost:8080/",
     "height": 87
    },
    "colab_type": "code",
    "id": "51ocpQvRd1pf",
    "outputId": "944b21c2-0dd1-4668-b356-e43e1dbf7ba7"
   },
   "outputs": [],
   "source": [
    "# pixel裡有三個資料，資料的索引分別是0,1,2，用[]包起來\n",
    "pixel = img_cat.getpixel((100,100))\n",
    "r = pixel[0]\n",
    "g = pixel[1]\n",
    "b = pixel[2]\n",
    "print(pixel)\n",
    "print('r = ',r)\n",
    "print('g = ',g)\n",
    "print('b = ',b)"
   ]
  },
  {
   "cell_type": "markdown",
   "metadata": {
    "colab_type": "text",
    "id": "9tiJUaGQJddr"
   },
   "source": [
    "# 讓我們來用像素複製圖片\n",
    "從原圖取像素放到新的空白圖"
   ]
  },
  {
   "cell_type": "code",
   "execution_count": null,
   "metadata": {
    "colab": {
     "base_uri": "https://localhost:8080/",
     "height": 310
    },
    "colab_type": "code",
    "id": "aQJULPOGHPk-",
    "outputId": "f3d268fb-4e6e-4f6c-c12d-09143d14f6e5"
   },
   "outputs": [],
   "source": [
    "img_cat = Image.open('cat.jpg')\n",
    "width,height = img_cat.size\n",
    "new = Image.new(\"RGB\",(width,height),(0,0,0))\n",
    "\n",
    "print(f'width:{width},height:{height}')\n",
    "\n",
    "# 先向下，再一層一層向右\n",
    "for w in range(width):\n",
    "    for h in range(height):\n",
    "        pixel = img_cat.getpixel((w,h))\n",
    "        r = pixel[0]\n",
    "        g = pixel[1]\n",
    "        b = pixel[2]\n",
    "        new.putpixel((w,h),(r,g,b))\n",
    "fig = plt.figure(figsize=(18,20))\n",
    "plt.subplot(121).imshow(img_cat)\n",
    "plt.subplot(122).imshow(new)\n"
   ]
  },
  {
   "cell_type": "markdown",
   "metadata": {
    "colab_type": "text",
    "id": "4jyJjVqFJijg"
   },
   "source": [
    "# 數值與色階的關係"
   ]
  },
  {
   "cell_type": "markdown",
   "metadata": {
    "colab_type": "text",
    "id": "T_HIObBHM9ku"
   },
   "source": [
    "當數值越靠近255的時候，亮度會越亮，\n",
    "當數值越靠近0的時候，亮度會越暗，\n",
    "\n"
   ]
  },
  {
   "cell_type": "code",
   "execution_count": null,
   "metadata": {
    "colab": {
     "base_uri": "https://localhost:8080/",
     "height": 412
    },
    "colab_type": "code",
    "id": "ZqG032WGX3nQ",
    "outputId": "d3ef6c76-b3e6-4812-c7ce-4d8591bd5283"
   },
   "outputs": [],
   "source": [
    "width = 200\n",
    "height = 50\n",
    "gray = Image.new(\"RGB\",(width,height),(0,0,0)) \n",
    "R = Image.new(\"RGB\",(width,height),(0,0,0)) \n",
    "G = Image.new(\"RGB\",(width,height),(0,0,0)) \n",
    "B = Image.new(\"RGB\",(width,height),(0,0,0)) \n",
    "\n",
    "# 向右漸層\n",
    "for x in range(width):\n",
    "    for y in range(height):\n",
    "        gray.putpixel((x,y),(x,x,x))\n",
    "        R.putpixel((x,y),(x,0,0))\n",
    "        G.putpixel((x,y),(0,x,0))\n",
    "        B.putpixel((x,y),(0,0,x))\n",
    "plt.figure(figsize=(20,8))\n",
    "_ = plt.subplot(221).imshow(gray)\n",
    "_ = plt.yticks([])\n",
    "_ = plt.subplot(222).imshow(R)\n",
    "_ = plt.yticks([])\n",
    "_ = plt.subplot(223).imshow(G)\n",
    "_ = plt.yticks([])\n",
    "_ = plt.subplot(224).imshow(B)\n",
    "_ = plt.yticks([])\n"
   ]
  },
  {
   "cell_type": "code",
   "execution_count": null,
   "metadata": {
    "colab": {
     "base_uri": "https://localhost:8080/",
     "height": 269
    },
    "colab_type": "code",
    "id": "i7wPx6Su7XXx",
    "outputId": "a01ac22a-2a4d-413b-f27a-84e819d8d50d"
   },
   "outputs": [],
   "source": [
    "\n",
    "# 這是一個橫的色階圖，共有200階，已經足夠看出數值與亮度的關係\n",
    "# 延伸：\n",
    "#     若是想把200階拓展到256階，除了更改width為256之外，要怎麼做？\n",
    "#         拉長尺度\n",
    "#     若是想做一個直向的色階圖的話，要怎麼更改程式碼？\n",
    "#         長、寬對換，修正座標\n",
    "\n",
    "\n",
    "def R1():\n",
    "    width = 200\n",
    "    height = 200\n",
    "\n",
    "    R = Image.new(\"RGB\",(width,height),(0,0,0))\n",
    "    \n",
    "    for x in range(width):\n",
    "        for y in range(height):\n",
    "            R.putpixel((x,y),(x,0,0))\n",
    "\n",
    "    _ = plt.imshow(R)\n",
    "\n",
    "def R2():\n",
    "    width = 200\n",
    "    height = 10\n",
    "\n",
    "    R = Image.new(\"RGB\",(width,height),(0,0,0))\n",
    "    \n",
    "    for x in range(width):\n",
    "        for y in range(height):\n",
    "            color = int((x/(width-1))*255)\n",
    "            R.putpixel((x,y),(color,0,0))\n",
    "\n",
    "    _ = plt.imshow(R)  \n",
    "\n",
    "def R3():\n",
    "    width = 10\n",
    "    height = 200\n",
    "\n",
    "    R = Image.new(\"RGB\",(width,height),(0,0,0))\n",
    "    \n",
    "    for x in range(width):\n",
    "        for y in range(height):\n",
    "            R.putpixel((x,y),(y,0,0))\n",
    "\n",
    "    _ = plt.imshow(R)  \n",
    "\n",
    "\n",
    "# R1()\n",
    "# R2()\n",
    "R3()"
   ]
  },
  {
   "cell_type": "markdown",
   "metadata": {
    "colab_type": "text",
    "id": "2cKDKLWBiFK4"
   },
   "source": [
    "參考網站：https://www.ginifab.com.tw/tools/colors/color_picker_from_image.php"
   ]
  },
  {
   "cell_type": "code",
   "execution_count": null,
   "metadata": {
    "colab": {
     "base_uri": "https://localhost:8080/",
     "height": 286
    },
    "colab_type": "code",
    "id": "tXNmxs3tCJkP",
    "outputId": "5656ebf9-4f94-4573-a0b3-d6a4d2bb5c13"
   },
   "outputs": [],
   "source": [
    "width = 2\n",
    "height = 2\n",
    "new = Image.new(\"RGB\",(width,height),(0,0,0))\n",
    "# 黑\n",
    "new.putpixel((0,0),(255,255,255))\n",
    "new.putpixel((1,1),(255,255,255))\n",
    "\n",
    "plt.imshow(new)"
   ]
  },
  {
   "cell_type": "code",
   "execution_count": null,
   "metadata": {
    "colab": {
     "base_uri": "https://localhost:8080/",
     "height": 265
    },
    "colab_type": "code",
    "id": "mlXNwFNQC20d",
    "outputId": "d5cd95c2-1e5b-4a15-e3bb-b6929ab50555"
   },
   "outputs": [],
   "source": [
    "f = plt.figure()\n",
    "s = plt.scatter([1, 2, 3], [4, 5, 6])\n",
    "s.set_urls(['http://www.bbc.co.uk/news', 'http://www.google.com', None])\n",
    "f.savefig('scatter.svg')"
   ]
  },
  {
   "cell_type": "code",
   "execution_count": null,
   "metadata": {
    "colab": {
     "base_uri": "https://localhost:8080/",
     "height": 286
    },
    "colab_type": "code",
    "id": "iRQ9cp_Zivc8",
    "outputId": "b603c14d-da06-40d0-91f1-2b3f645e7986"
   },
   "outputs": [],
   "source": [
    "width = 2\n",
    "height = 2\n",
    "new = Image.new(\"RGB\",(width,height),(0,0,0))\n",
    "# 紅\n",
    "new.putpixel((0,0),(255,0,0))\n",
    "# 紅 + 綠 = 黃\n",
    "new.putpixel((1,0),(255,255,0))\n",
    "# 紅 + 藍 = 紫\n",
    "new.putpixel((0,1),(255,0,255))\n",
    "# 綠 + 藍 = 青\n",
    "new.putpixel((1,1),(0,255,255))\n",
    "\n",
    "plt.imshow(new)"
   ]
  },
  {
   "cell_type": "code",
   "execution_count": null,
   "metadata": {
    "colab": {
     "base_uri": "https://localhost:8080/",
     "height": 286
    },
    "colab_type": "code",
    "id": "6_KeR-LFhfPM",
    "outputId": "9e7002b0-5d1d-492f-9651-f8c1cb4fa494"
   },
   "outputs": [],
   "source": [
    "width = 2\n",
    "height = 2\n",
    "new = Image.new(\"RGB\",(width,height),(0,0,0))\n",
    "\n",
    "new.putpixel((0,0),(228,114,186))\n",
    "new.putpixel((0,1),(236,79,128))\n",
    "new.putpixel((1,0),(254,210,43))\n",
    "new.putpixel((1,1),(76,200,68))\n",
    "\n",
    "plt.imshow(new)"
   ]
  },
  {
   "cell_type": "markdown",
   "metadata": {
    "colab_type": "text",
    "id": "NQOpqFJrP6fe"
   },
   "source": [
    "# 讓數值變大 → 提升亮度"
   ]
  },
  {
   "cell_type": "markdown",
   "metadata": {
    "colab_type": "text",
    "id": "fVcQhTSWFxra"
   },
   "source": [
    "## 利用加法的方式提升亮度"
   ]
  },
  {
   "cell_type": "code",
   "execution_count": null,
   "metadata": {
    "colab": {
     "base_uri": "https://localhost:8080/",
     "height": 226
    },
    "colab_type": "code",
    "id": "rH-84oIWF3gQ",
    "outputId": "14ff6f66-2369-42d1-842f-0da2929a8aa4"
   },
   "outputs": [],
   "source": [
    "img_cat = Image.open('cat.jpg')\n",
    "width,height = img_cat.size\n",
    "new = Image.new(\"RGB\",(width,height),(0,0,0))\n",
    "print(f'width:{width},height:{height}')\n",
    "for x in range(width):\n",
    "    for y in range(height):\n",
    "        pixel = img_cat.getpixel((x,y))\n",
    "        r = pixel[0]+100\n",
    "        g = pixel[1]+100\n",
    "        b = pixel[2]+100\n",
    "        new.putpixel((x,y),(r,g,b))\n",
    "fig = plt.figure(figsize=(18,20))\n",
    "_ = plt.subplot(121).imshow(img_cat)\n",
    "_ = plt.title(\"Original\")\n",
    "_ = plt.subplot(122).imshow(new)\n",
    "_ = plt.title(\"Pixel + 100\")\n"
   ]
  },
  {
   "cell_type": "code",
   "execution_count": null,
   "metadata": {
    "colab": {
     "base_uri": "https://localhost:8080/",
     "height": 282
    },
    "colab_type": "code",
    "id": "AUN5w7IcGJKt",
    "outputId": "1bd87b2a-fd87-436a-e55e-85ab038eb54b"
   },
   "outputs": [],
   "source": [
    "x = np.linspace(0,255)\n",
    "y1 = x\n",
    "y2 = (x+100)\n",
    "\n",
    "plt.plot(x,y2,label = 'y=x+100',lw=3)\n",
    "plt.plot(x,y1,label = 'y=x')\n",
    "\n",
    "plt.axis([0,255,0,255])\n",
    "plt.legend(loc = \"lower right\")"
   ]
  },
  {
   "cell_type": "markdown",
   "metadata": {
    "colab_type": "text",
    "id": "6oyzqVlYJmsJ"
   },
   "source": [
    "## 利用像素*1.5倍提升亮度(逐個像素放大)"
   ]
  },
  {
   "cell_type": "markdown",
   "metadata": {
    "colab_type": "text",
    "id": "Bngu20srHrD6"
   },
   "source": [
    "### Pixel"
   ]
  },
  {
   "cell_type": "code",
   "execution_count": null,
   "metadata": {
    "colab": {
     "base_uri": "https://localhost:8080/",
     "height": 310
    },
    "colab_type": "code",
    "id": "-ylBg_6IQLyU",
    "outputId": "4872e1cf-2f16-4f96-c67b-dab0883073fe"
   },
   "outputs": [],
   "source": [
    "img_cat = Image.open('cat.jpg')\n",
    "width,height = img_cat.size\n",
    "print(f'width:{width},height:{height}')\n",
    "\n",
    "new = Image.new(\"RGB\",(width,height),(0,0,0))\n",
    "\n",
    "for w in range(width):\n",
    "    for h in range(height):\n",
    "        pixel = img_cat.getpixel((w,h))\n",
    "        # 把所有數值均放大1.5倍 → 亮度增加\n",
    "        r = int(pixel[0]*1.5)\n",
    "        g = int(pixel[1]*1.5)\n",
    "        b = int(pixel[2]*1.5)\n",
    "        new.putpixel((w,h),(r,g,b))\n",
    "        \n",
    "fig = plt.figure(figsize=(18,20))\n",
    "plt.subplot(121).imshow(img_cat)\n",
    "plt.subplot(122).imshow(new)\n"
   ]
  },
  {
   "cell_type": "code",
   "execution_count": null,
   "metadata": {
    "colab": {
     "base_uri": "https://localhost:8080/",
     "height": 244
    },
    "colab_type": "code",
    "id": "5Eb22V7IZ2hI",
    "outputId": "2241792f-c7d8-4a01-a0e4-e67ce5b51318"
   },
   "outputs": [],
   "source": [
    "# 選擇性的放大\n",
    "img_cat.size\n",
    "width,height = img_cat.size\n",
    "new = Image.new(\"RGB\",(width,height),(0,0,0))\n",
    "print(f'width:{width},height:{height}')\n",
    "for w in range(width):\n",
    "    for h in range(height):\n",
    "        pixel = img_cat.getpixel((w,h))\n",
    "        # 把所有數值均放大1.5倍 → 亮度增加\n",
    "        r = pixel[0]\n",
    "        g = pixel[1]\n",
    "        b = pixel[2]\n",
    "        if r<100 and g<100 and b<100:\n",
    "            r = int(r*1.5)\n",
    "            g = int(g*1.5)\n",
    "            b = int(b*1.5)\n",
    "    \n",
    "        new.putpixel((w,h),(r,g,b))\n",
    "        \n",
    "fig = plt.figure(figsize=(18,20))\n",
    "plt.subplot(121,title = 'original').imshow(img_cat)\n",
    "plt.subplot(122,title='less than 100 to * 1.5').imshow(new)\n",
    "\n",
    "# 把每個像素直接乘上1.5的話，有些地方調亮之後會爆掉"
   ]
  },
  {
   "cell_type": "code",
   "execution_count": null,
   "metadata": {
    "colab": {
     "base_uri": "https://localhost:8080/",
     "height": 286
    },
    "colab_type": "code",
    "id": "2HaUHk2PGOOp",
    "outputId": "f314467e-0a11-4948-d099-7fab63ebf031"
   },
   "outputs": [],
   "source": [
    "x = np.linspace(0,1)\n",
    "y1 = x\n",
    "y2 = (x*1.5)\n",
    "\n",
    "plt.plot(x,y2,label = 'y=x*1.5')\n",
    "plt.plot(x,y1,label = 'y=x')\n",
    "\n",
    "plt.axis([0,1,0,1])\n",
    "plt.legend(loc = \"lower right\")"
   ]
  },
  {
   "cell_type": "markdown",
   "metadata": {
    "colab_type": "text",
    "id": "5KttmVDpHoL0"
   },
   "source": [
    "### Numpy"
   ]
  },
  {
   "cell_type": "code",
   "execution_count": null,
   "metadata": {
    "colab": {
     "base_uri": "https://localhost:8080/",
     "height": 250
    },
    "colab_type": "code",
    "id": "ldKhfTV6VU4l",
    "outputId": "6f368185-4c6e-4ec0-e6be-17f678433ad2"
   },
   "outputs": [],
   "source": [
    "img_cat = Image.open('cat.jpg')\n",
    "img_cat_arr = np.array(img_cat)\n",
    "print(img_cat_arr.shape)\n",
    "\n",
    "img_cat_arr = np.clip(a=img_cat_arr*1.5,a_min=1,a_max=255).astype(int)\n",
    "\n",
    "plt.imshow(img_cat_arr)"
   ]
  },
  {
   "cell_type": "markdown",
   "metadata": {
    "colab_type": "text",
    "id": "MLweBjwTJ9Fn"
   },
   "source": [
    "## 利用開方的方式提升亮度\n",
    "> 暗部會調的比較多，靠近比較亮的地方則變動會比較少"
   ]
  },
  {
   "cell_type": "code",
   "execution_count": null,
   "metadata": {
    "colab": {
     "base_uri": "https://localhost:8080/",
     "height": 1000
    },
    "colab_type": "code",
    "id": "MmIZj4Dco-rb",
    "outputId": "126ec46f-51ca-44d1-cbd9-a5c4ea8e3380"
   },
   "outputs": [],
   "source": [
    "# 試著用開方的方式調亮\n",
    "# 0~1的數開方之後還是在0~1，這是一個暗部調亮的技巧\n",
    "img_cat = Image.open('cat.jpg')\n",
    "width,height = img_cat.size\n",
    "print(f'width:{width},height:{height}')\n",
    "\n",
    "new = Image.new(\"RGB\",(width,height),(0,0,0))\n",
    "new15 = Image.new(\"RGB\",(width,height),(0,0,0))\n",
    "\n",
    "for w in range(width):\n",
    "    for h in range(height):\n",
    "        r,g,b = img_cat.getpixel((w,h))\n",
    "\n",
    "        r_sqrt = int(255*np.sqrt(r/255))\n",
    "        g_sqrt = int(255*np.sqrt(g/255))\n",
    "        b_sqrt = int(255*np.sqrt(b/255))\n",
    "        new.putpixel((w,h),(r_sqrt,g_sqrt,b_sqrt))\n",
    "\n",
    "        r_1_5 = int(r*1.5)\n",
    "        g_1_5 = int(g*1.5)\n",
    "        b_1_5 = int(b*1.5)\n",
    "        new15.putpixel((w,h),(r_1_5,g_1_5,b_1_5))\n",
    "\n",
    "fig = plt.figure(figsize=(18,20))\n",
    "plt.subplot(311,title = 'original').imshow(img_cat)\n",
    "plt.subplot(312,title = 'sqrt').imshow(new)\n",
    "plt.subplot(313,title = '*1.5').imshow(new15)\n",
    "\n",
    "\n"
   ]
  },
  {
   "cell_type": "code",
   "execution_count": null,
   "metadata": {
    "colab": {
     "base_uri": "https://localhost:8080/",
     "height": 282
    },
    "colab_type": "code",
    "id": "DVb4TfFCo9XY",
    "outputId": "b77ada7e-b07f-455f-e688-6a07cab43227"
   },
   "outputs": [],
   "source": [
    "x = np.linspace(0,1,50)\n",
    "y1 = x\n",
    "y2 = np.sqrt(x)\n",
    "\n",
    "plt.plot(x,y2,label = 'y=$\\sqrt{x}$')-\n",
    "plt.plot(x,y1,label = 'y=x')\n",
    "\n",
    "plt.legend(loc = 'lower right')\n",
    "# 所有數值需標準化至0~1之間"
   ]
  },
  {
   "cell_type": "markdown",
   "metadata": {
    "colab_type": "text",
    "id": "PweLgcgLQOuQ"
   },
   "source": [
    "# 讓數值變小 → 降低亮度"
   ]
  },
  {
   "cell_type": "markdown",
   "metadata": {
    "colab_type": "text",
    "id": "nGRO3k9DPF84"
   },
   "source": [
    "## 利用像素減半降低亮度"
   ]
  },
  {
   "cell_type": "code",
   "execution_count": null,
   "metadata": {
    "colab": {
     "base_uri": "https://localhost:8080/",
     "height": 235
    },
    "colab_type": "code",
    "id": "n3OOLQULRj9U",
    "outputId": "8af9a6db-265d-4fa9-c531-c69f1f81b323"
   },
   "outputs": [],
   "source": [
    "img_cat = Image.open('cat.jpg')\n",
    "width,height = img_cat.size\n",
    "print(f'width:{width},height:{height}')\n",
    "\n",
    "new = Image.new(\"RGB\",(width,height),(0,0,0))\n",
    "\n",
    "for w in range(width):\n",
    "    for h in range(height):\n",
    "        pixel = img_cat.getpixel((w,h))\n",
    "        # 把所有數值均減為一半 → 亮度減少\n",
    "        r = int(pixel[0]*0.5)\n",
    "        g = int(pixel[1]*0.5)\n",
    "        b = int(pixel[2]*0.5)\n",
    "        new.putpixel((w,h),(r,g,b))\n",
    "\n",
    "fig = plt.figure(figsize=(18,20))\n",
    "plt.subplot(121).imshow(img_cat)\n",
    "plt.subplot(122).imshow(new)\n",
    "\n",
    "\n"
   ]
  },
  {
   "cell_type": "markdown",
   "metadata": {
    "colab_type": "text",
    "id": "KcumQLWbPQ15"
   },
   "source": [
    "## 利用二次函數降低亮度"
   ]
  },
  {
   "cell_type": "code",
   "execution_count": null,
   "metadata": {
    "colab": {
     "base_uri": "https://localhost:8080/",
     "height": 1000
    },
    "colab_type": "code",
    "id": "B7DWefUbrTK0",
    "outputId": "27a9b891-8038-4dfd-86cd-5f2a1ec419b2"
   },
   "outputs": [],
   "source": [
    "# 試著用平方的方式調暗\n",
    "# 0~1的數平方之後還是在0~1，這是一個亮部調暗的技巧\n",
    "img_cat = Image.open('cat.jpg')\n",
    "width,height = img_cat.size\n",
    "print(f'width:{width},height:{height}')\n",
    "\n",
    "new = Image.new(\"RGB\",(width,height),(0,0,0))\n",
    "new05 = Image.new(\"RGB\",(width,height),(0,0,0))\n",
    "\n",
    "for w in range(width):\n",
    "    for h in range(height):\n",
    "        r,g,b = img_cat.getpixel((w,h))\n",
    "\n",
    "        r_new = int(255*((r/255)**2))\n",
    "        g_new = int(255*((g/255)**2))\n",
    "        b_new = int(255*((b/255)**2))\n",
    "        new.putpixel((w,h),(r_new,g_new,b_new))\n",
    "\n",
    "        r_0_5 = int(r*0.5)\n",
    "        g_0_5 = int(g*0.5)\n",
    "        b_0_5 = int(b*0.5)\n",
    "        new05.putpixel((w,h),(r_0_5,g_0_5,b_0_5))\n",
    "\n",
    "fig = plt.figure(figsize=(18,20))\n",
    "plt.subplot(311,title = 'original').imshow(img_cat)\n",
    "plt.subplot(312,title = 'x$^2$').imshow(new)\n",
    "plt.subplot(313,title = '*0.5').imshow(new05)\n",
    "\n",
    "\n"
   ]
  },
  {
   "cell_type": "code",
   "execution_count": null,
   "metadata": {
    "colab": {
     "base_uri": "https://localhost:8080/",
     "height": 283
    },
    "colab_type": "code",
    "id": "YECc2NefrQG2",
    "outputId": "9a03e05e-e8da-41a3-c783-66f0cddbadb3"
   },
   "outputs": [],
   "source": [
    "x = np.linspace(0,1,50)\n",
    "y1 = x\n",
    "y2 = (x**2)\n",
    "\n",
    "plt.plot(x,y1,label = 'y=x')\n",
    "plt.plot(x,y2,label = 'y=x$^2$')\n",
    "plt.legend()"
   ]
  },
  {
   "cell_type": "markdown",
   "metadata": {
    "colab_type": "text",
    "id": "Txaj5pQ-RN2p"
   },
   "source": [
    "# 分離RGB三通道(逐個像素)"
   ]
  },
  {
   "cell_type": "code",
   "execution_count": null,
   "metadata": {
    "colab": {
     "base_uri": "https://localhost:8080/",
     "height": 723
    },
    "colab_type": "code",
    "id": "YOElN6yrRuZL",
    "outputId": "85175e9e-cc47-471e-e5b1-d1a6df3aa75f"
   },
   "outputs": [],
   "source": [
    "img_cat = Image.open('cat.jpg')\n",
    "width,height = img_cat.size\n",
    "print(f'width:{width},height:{height}')\n",
    "\n",
    "newR = Image.new(\"RGB\",(width,height),(0,0,0))\n",
    "newG = Image.new(\"RGB\",(width,height),(0,0,0))\n",
    "newB = Image.new(\"RGB\",(width,height),(0,0,0))\n",
    "\n",
    "for w in range(width):\n",
    "    for h in range(height):\n",
    "        pixel = img_cat.getpixel((w,h))\n",
    "        \n",
    "        r = int(pixel[0])\n",
    "        g = int(pixel[1])\n",
    "        b = int(pixel[2])\n",
    "        newR.putpixel((w,h),(r,0,0))\n",
    "        newG.putpixel((w,h),(0,g,0))\n",
    "        newB.putpixel((w,h),(0,0,b))\n",
    "\n",
    "fig = plt.figure(figsize=(18,20))\n",
    "plt.subplot(211).imshow(img_cat)\n",
    "plt.subplot(234).imshow(newR)\n",
    "plt.subplot(235).imshow(newG)\n",
    "plt.subplot(236).imshow(newB)\n"
   ]
  },
  {
   "cell_type": "markdown",
   "metadata": {
    "colab_type": "text",
    "id": "3ZNuHMvvV0ZT"
   },
   "source": [
    "## 互補色\n",
    "![](http://blog.luohuedu.net/images/new/suoluefile/27670/2009-12/200912922355734348433.jpg)"
   ]
  },
  {
   "cell_type": "code",
   "execution_count": null,
   "metadata": {
    "colab": {
     "base_uri": "https://localhost:8080/",
     "height": 235
    },
    "colab_type": "code",
    "id": "NnHGQ4bjScEV",
    "outputId": "3f1263cc-cd59-4fe5-f323-974975ed47c6"
   },
   "outputs": [],
   "source": [
    "img_cat = Image.open('cat.jpg')\n",
    "img_cat_arr = np.array(img_cat)\n",
    "\n",
    "width,height = img_cat.size\n",
    "print(f'width:{width},height:{height}')\n",
    "\n",
    "new = Image.new(\"RGB\",(width,height),(0,0,0))\n",
    "\n",
    "for w in range(width):\n",
    "    for h in range(height):\n",
    "        pixel = img_cat.getpixel((w,h))\n",
    "        # 互補色\n",
    "        r = 255-pixel[0]\n",
    "        g = 255-pixel[1]\n",
    "        b = 255-pixel[2]\n",
    "        new.putpixel((w,h),(r,g,b))\n",
    "\n",
    "fig = plt.figure(figsize=(18,20))\n",
    "plt.subplot(121).imshow(img_cat)\n",
    "plt.subplot(122).imshow(new)\n"
   ]
  },
  {
   "cell_type": "markdown",
   "metadata": {
    "colab_type": "text",
    "id": "YbQqYx-am3Sa"
   },
   "source": [
    "## 擷取部分圖片"
   ]
  },
  {
   "cell_type": "markdown",
   "metadata": {
    "colab_type": "text",
    "id": "V5ygpTgrRYIx"
   },
   "source": [
    "### Pixel\n"
   ]
  },
  {
   "cell_type": "code",
   "execution_count": null,
   "metadata": {
    "colab": {
     "base_uri": "https://localhost:8080/",
     "height": 253
    },
    "colab_type": "code",
    "id": "-yWJv-YMRdS6",
    "outputId": "df8d0b3e-b441-4ec3-f757-aac626b84c3e"
   },
   "outputs": [],
   "source": [
    "img_cat = Image.open('cat.jpg')\n",
    "width,height = img_cat.size\n",
    "print(f'原圖大小：width:{width},height:{height}')\n",
    "\n",
    "# half_w = int(width/2)\n",
    "half_h = int(height/2)\n",
    "\n",
    "new = Image.new(\"RGB\",(width,half_h),(0,0,0))\n",
    "new_width,new_height = new.size\n",
    "print(f'裁剪後：width:{new_width},height:{new_height}')\n",
    "\n",
    "for w in range(width):\n",
    "    for h in range(half_h):\n",
    "        pixel = img_cat.getpixel((w,h))\n",
    "        r = pixel[0]\n",
    "        g = pixel[1]\n",
    "        b = pixel[2]\n",
    "        new.putpixel((w,h),(r,g,b))\n",
    "fig = plt.figure(figsize=(18,20))\n",
    "plt.subplot(121).imshow(img_cat)\n",
    "plt.subplot(122).imshow(new)"
   ]
  },
  {
   "cell_type": "code",
   "execution_count": null,
   "metadata": {
    "colab": {
     "base_uri": "https://localhost:8080/",
     "height": 411
    },
    "colab_type": "code",
    "id": "0xWcatMWTvRH",
    "outputId": "1e905de3-4341-44fc-bf07-54bae22417c6"
   },
   "outputs": [],
   "source": [
    "img_cat = Image.open('cat.jpg')\n",
    "width,height = img_cat.size\n",
    "print(f'原圖大小：width:{width},height:{height}')\n",
    "\n",
    "half_w = int(width/2)\n",
    "# half_h = int(height/2)\n",
    "\n",
    "new = Image.new(\"RGB\",(half_w,height),(0,0,0))\n",
    "new_width,new_height = new.size\n",
    "print(f'裁剪後：width:{new_width},height:{new_height}')\n",
    "for w in range(half_w):\n",
    "    for h in range(height):\n",
    "        pixel = img_cat.getpixel((w,h))\n",
    "        r = pixel[0]\n",
    "        g = pixel[1]\n",
    "        b = pixel[2]\n",
    "        new.putpixel((w,h),(r,g,b))\n",
    "fig = plt.figure(figsize=(18,20))\n",
    "plt.subplot(121).imshow(img_cat)\n",
    "plt.subplot(122).imshow(new)"
   ]
  },
  {
   "cell_type": "markdown",
   "metadata": {
    "colab_type": "text",
    "id": "OB0lnjw5RVRX"
   },
   "source": [
    "## numpy"
   ]
  },
  {
   "cell_type": "code",
   "execution_count": null,
   "metadata": {
    "colab": {
     "base_uri": "https://localhost:8080/",
     "height": 217
    },
    "colab_type": "code",
    "id": "Bn0YxO-z19HQ",
    "outputId": "60de577d-89ac-42c1-d76d-2e7b319945f1"
   },
   "outputs": [],
   "source": [
    "img_cat = Image.open('cat.jpg')\n",
    "width,height = img_cat.size\n",
    "img_cat_arr = np.array(img_cat)\n",
    "\n",
    "half_h=int(img_cat_arr.shape[0]//2)\n",
    "new_cat_arr = img_cat_arr[0:half_h,:,:]\n",
    "\n",
    "fig = plt.figure(figsize=(18,20))\n",
    "plt.subplot(121).imshow(img_cat)\n",
    "plt.subplot(122).imshow(new_cat_arr)"
   ]
  },
  {
   "cell_type": "code",
   "execution_count": null,
   "metadata": {
    "colab": {
     "base_uri": "https://localhost:8080/",
     "height": 393
    },
    "colab_type": "code",
    "id": "raOBFyH-Qzyf",
    "outputId": "82985144-6e1a-41e8-bffa-d13ac8eff492"
   },
   "outputs": [],
   "source": [
    "img_cat = Image.open('cat.jpg')\n",
    "width,height = img_cat.size\n",
    "img_cat_arr = np.array(img_cat)\n",
    "half_w=int(img_cat_arr.shape[1]//2)\n",
    "\n",
    "new_cat_arr = img_cat_arr[:,0:half_w,:]\n",
    "print(f'width:{width},height:{height}')\n",
    "\n",
    "fig = plt.figure(figsize=(18,20))\n",
    "plt.subplot(121).imshow(img_cat)\n",
    "plt.subplot(122).imshow(new_cat_arr)"
   ]
  },
  {
   "cell_type": "markdown",
   "metadata": {
    "colab_type": "text",
    "id": "lqj8hiaxm_Md"
   },
   "source": [
    "## 裁剪圖片"
   ]
  },
  {
   "cell_type": "code",
   "execution_count": null,
   "metadata": {
    "colab": {
     "base_uri": "https://localhost:8080/",
     "height": 235
    },
    "colab_type": "code",
    "id": "WwH1q1Di2iB2",
    "outputId": "a3f07081-06d3-42e9-ccbc-66ad49c9f0a8"
   },
   "outputs": [],
   "source": [
    "img_cat = Image.open('cat.jpg')\n",
    "\n",
    "width,height = img_cat.size\n",
    "\n",
    "half_w=int(width//2)\n",
    "half_h=int(height//2)\n",
    "\n",
    "new = Image.new(\"RGB\",(half_w,half_h),(0,0,0))\n",
    "print(f'width:{width},height:{height}')\n",
    "for w in range(half_w):\n",
    "    for h in range(half_h):\n",
    "        pixel = img_cat.getpixel((w,h))\n",
    "        r = pixel[0]\n",
    "        g = pixel[1]\n",
    "        b = pixel[2]\n",
    "        new.putpixel((w,h),(r,g,b))\n",
    "fig = plt.figure(figsize=(18,20))\n",
    "plt.subplot(121).imshow(img_cat)\n",
    "plt.subplot(122).imshow(new_cat_arr)"
   ]
  },
  {
   "cell_type": "code",
   "execution_count": null,
   "metadata": {
    "colab": {
     "base_uri": "https://localhost:8080/",
     "height": 235
    },
    "colab_type": "code",
    "id": "pMBwQ0P-U_FO",
    "outputId": "f9e684b3-81b5-4a27-b5ad-61e5414f0569"
   },
   "outputs": [],
   "source": [
    "img_cat = Image.open('cat.jpg')\n",
    "width,height = img_cat.size\n",
    "img_cat_arr = np.array(img_cat)\n",
    "\n",
    "half_h=int(img_cat_arr.shape[0]//2)\n",
    "half_w=int(img_cat_arr.shape[1]//2)\n",
    "\n",
    "new_cat_arr = img_cat_arr[0:half_h,0:half_w,:]\n",
    "\n",
    "print(f'width:{width},height:{height}')\n",
    "\n",
    "fig = plt.figure(figsize=(18,20))\n",
    "plt.subplot(121).imshow(img_cat)\n",
    "plt.subplot(122).imshow(new_cat_arr)"
   ]
  },
  {
   "cell_type": "markdown",
   "metadata": {
    "colab_type": "text",
    "id": "HeZ4YN4ymrqX"
   },
   "source": [
    "## 上下反轉"
   ]
  },
  {
   "cell_type": "code",
   "execution_count": null,
   "metadata": {
    "colab": {
     "base_uri": "https://localhost:8080/",
     "height": 235
    },
    "colab_type": "code",
    "id": "hQa-luo8Wcod",
    "outputId": "e9024d34-4c05-48c6-b0a2-505be6b4f065"
   },
   "outputs": [],
   "source": [
    "img_cat = Image.open('cat.jpg')\n",
    "width,height = img_cat.size\n",
    "print(f'width:{width},height:{height}')\n",
    "\n",
    "new = Image.new(\"RGB\",(width,height),(0,0,0))\n",
    "\n",
    "for w in range(width):\n",
    "    for h in range(height):\n",
    "        pixel = img_cat.getpixel((w,h))\n",
    "        r = pixel[0]\n",
    "        g = pixel[1]\n",
    "        b = pixel[2]\n",
    "        new.putpixel((w,height-h-1),(r,g,b))\n",
    "fig = plt.figure(figsize=(18,20))\n",
    "plt.subplot(121).imshow(img_cat)\n",
    "plt.subplot(122).imshow(new)"
   ]
  },
  {
   "cell_type": "code",
   "execution_count": null,
   "metadata": {
    "colab": {
     "base_uri": "https://localhost:8080/",
     "height": 235
    },
    "colab_type": "code",
    "id": "e8DIoa8Gy-oW",
    "outputId": "89b37786-6261-4356-9bc6-5ccce37957f0"
   },
   "outputs": [],
   "source": [
    "img_cat = Image.open('cat.jpg')\n",
    "width,height = img_cat.size\n",
    "print(f'width:{width},height:{height}')\n",
    "\n",
    "img_cat_arr = np.array(img_cat)\n",
    "new_cat_arr = img_cat_arr[::-1,:,:]\n",
    "\n",
    "fig = plt.figure(figsize=(18,20))\n",
    "plt.subplot(121).imshow(img_cat)\n",
    "plt.subplot(122).imshow(new_cat_arr)"
   ]
  },
  {
   "cell_type": "markdown",
   "metadata": {
    "colab_type": "text",
    "id": "EsrilDP9mu_m"
   },
   "source": [
    "## 左右反轉"
   ]
  },
  {
   "cell_type": "code",
   "execution_count": null,
   "metadata": {
    "colab": {
     "base_uri": "https://localhost:8080/",
     "height": 235
    },
    "colab_type": "code",
    "id": "YLN64gg2zm2q",
    "outputId": "780244d1-d5b5-416e-8b08-7894b5f55852"
   },
   "outputs": [],
   "source": [
    "img_cat = Image.open('cat.jpg')\n",
    "width,height = img_cat.size\n",
    "print(f'width:{width},height:{height}')\n",
    "\n",
    "new = Image.new(\"RGB\",(width,height),(0,0,0))\n",
    "\n",
    "for w in range(width):\n",
    "    for h in range(height):\n",
    "        pixel = img_cat.getpixel((w,h))\n",
    "        r = pixel[0]\n",
    "        g = pixel[1]\n",
    "        b = pixel[2]\n",
    "        new.putpixel((width-w-1,h),(r,g,b))\n",
    "        \n",
    "fig = plt.figure(figsize=(18,20))\n",
    "plt.subplot(121).imshow(img_cat)\n",
    "plt.subplot(122).imshow(new)"
   ]
  },
  {
   "cell_type": "code",
   "execution_count": null,
   "metadata": {
    "colab": {
     "base_uri": "https://localhost:8080/",
     "height": 235
    },
    "colab_type": "code",
    "id": "4E9cdlIcXf3L",
    "outputId": "283fd8ba-06ed-4cb8-a843-94683d6c1943"
   },
   "outputs": [],
   "source": [
    "img_cat = Image.open('cat.jpg')\n",
    "width,height = img_cat.size\n",
    "print(f'width:{width},height:{height}')\n",
    "\n",
    "img_cat_arr = np.array(img_cat)\n",
    "new_cat_arr = img_cat_arr[:,::-1,:]\n",
    "\n",
    "fig = plt.figure(figsize=(18,20))\n",
    "plt.subplot(121)\n",
    "plt.imshow(img_cat)\n",
    "plt.subplot(122)\n",
    "plt.imshow(new_cat_arr)"
   ]
  },
  {
   "cell_type": "markdown",
   "metadata": {
    "colab_type": "text",
    "id": "qHHJB73jmxmj"
   },
   "source": [
    "## 上下、左右反轉"
   ]
  },
  {
   "cell_type": "code",
   "execution_count": null,
   "metadata": {
    "colab": {
     "base_uri": "https://localhost:8080/",
     "height": 235
    },
    "colab_type": "code",
    "id": "18vrwVtwzsOA",
    "outputId": "e94e1f69-1418-4187-c856-0e0312f0764b"
   },
   "outputs": [],
   "source": [
    "img_cat = Image.open('cat.jpg')\n",
    "width,height = img_cat.size\n",
    "print(f'width:{width},height:{height}')\n",
    "\n",
    "new = Image.new(\"RGB\",(width,height),(0,0,0))\n",
    "\n",
    "for w in range(width):\n",
    "    for h in range(height):\n",
    "        pixel = img_cat.getpixel((w,h))\n",
    "        r = pixel[0]\n",
    "        g = pixel[1]\n",
    "        b = pixel[2]\n",
    "        new.putpixel((width-w-1,height-h-1),(r,g,b))\n",
    "        \n",
    "fig = plt.figure(figsize=(18,20))\n",
    "plt.subplot(121).imshow(img_cat)\n",
    "plt.subplot(122).imshow(new)"
   ]
  },
  {
   "cell_type": "code",
   "execution_count": null,
   "metadata": {
    "colab": {
     "base_uri": "https://localhost:8080/",
     "height": 235
    },
    "colab_type": "code",
    "id": "bF1_IAGtYMsB",
    "outputId": "899bd36c-096d-458d-a7e8-69ba46bd9f7a"
   },
   "outputs": [],
   "source": [
    "img_cat = Image.open('cat.jpg')\n",
    "width,height = img_cat.size\n",
    "print(f'width:{width},height:{height}')\n",
    "\n",
    "img_cat_arr = np.array(img_cat)\n",
    "new_cat_arr = img_cat_arr[::-1,::-1,:]\n",
    "\n",
    "fig = plt.figure(figsize=(18,20))\n",
    "plt.subplot(121).imshow(img_cat)\n",
    "plt.subplot(122).imshow(new_cat_arr)"
   ]
  },
  {
   "cell_type": "markdown",
   "metadata": {
    "colab_type": "text",
    "id": "RfoZeT--nHqK"
   },
   "source": [
    "## 兩張照片疊合"
   ]
  },
  {
   "cell_type": "code",
   "execution_count": null,
   "metadata": {
    "colab": {
     "base_uri": "https://localhost:8080/",
     "height": 238
    },
    "colab_type": "code",
    "id": "bwYOFwCXENJX",
    "outputId": "a4de139a-c2dc-476f-d9cc-87b526b6e0db"
   },
   "outputs": [],
   "source": [
    "img_cat = Image.open('cat.jpg')\n",
    "img_dog = Image.open('dog.jpg')\n",
    "\n",
    "print(img_cat.size)\n",
    "print(img_dog.size)\n",
    "\n"
   ]
  },
  {
   "cell_type": "code",
   "execution_count": null,
   "metadata": {
    "colab": {
     "base_uri": "https://localhost:8080/",
     "height": 310
    },
    "colab_type": "code",
    "id": "nsLvezZXf08e",
    "outputId": "30d16a0b-b02c-4121-9e4f-121cde158693"
   },
   "outputs": [],
   "source": [
    "img_cat = Image.open('cat.jpg')\n",
    "img_dog = Image.open('dog.jpg')\n",
    "img_cat_arr = np.array(img_cat)\n",
    "img_dog_arr = np.array(img_dog)\n",
    "\n",
    "img_combine_arr = np.zeros(img_cat.size)\n",
    "print(img_cat_arr.shape)\n",
    "\n",
    "combin_r_arr = ((img_cat_arr//2 + img_dog_arr//2))\n",
    "# 使用np.clip使數值維持在0~255\n",
    "combin_r_arr = np.clip(combin_r_arr,a_min=0, a_max=255).astype('uint8')\n",
    "fig = plt.figure(figsize=(18,20))\n",
    "plt.subplot(221)\n",
    "plt.imshow(combin_r_arr)\n"
   ]
  },
  {
   "cell_type": "markdown",
   "metadata": {
    "colab_type": "text",
    "id": "XOZBj7KlnK9D"
   },
   "source": [
    "## 圖片加上白噪點"
   ]
  },
  {
   "cell_type": "code",
   "execution_count": null,
   "metadata": {
    "colab": {
     "base_uri": "https://localhost:8080/",
     "height": 233
    },
    "colab_type": "code",
    "id": "9YbmTK59S5h5",
    "outputId": "b75d82ba-643b-46f7-ed17-7073bfd39f16"
   },
   "outputs": [],
   "source": [
    "img_cat = Image.open('cat.jpg')\n",
    "width,height = img_cat.size\n",
    "print(f'width:{width},height:{height}')\n",
    "\n",
    "img_cat_arr = np.array(img_cat)\n",
    "\n",
    "for i in range(100000):\n",
    "    x = np.random.randint(0,height)\n",
    "    y = np.random.randint(0,width)\n",
    "    img_cat_arr[x,y,:] = 255\n",
    "\n",
    "fig = plt.figure(figsize=(20,18))\n",
    "plt.subplot(121).imshow(img_cat)\n",
    "plt.subplot(122).imshow(img_cat_arr)\n"
   ]
  },
  {
   "cell_type": "code",
   "execution_count": null,
   "metadata": {
    "colab": {
     "base_uri": "https://localhost:8080/",
     "height": 842
    },
    "colab_type": "code",
    "id": "sTIWXYyeiaN6",
    "outputId": "5092ebf9-c868-43a3-a631-52db681cd962"
   },
   "outputs": [],
   "source": [
    "img_cat = Image.open('cat.jpg')\n",
    "width,height = img_cat.size\n",
    "print(f'width:{width},height:{height}')\n",
    "\n",
    "new = img_cat.copy()\n",
    "\n",
    "for i in range(100000):\n",
    "    x = np.random.randint(0,width)\n",
    "    y = np.random.randint(0,height)\n",
    "    new.putpixel((x,y),(255,255,255))\n",
    "\n",
    "fig = plt.figure(figsize=(20,18))\n",
    "plt.subplot(211).imshow(img_cat)\n",
    "plt.subplot(212).imshow(new)\n"
   ]
  }
 ],
 "metadata": {
  "colab": {
   "collapsed_sections": [
    "hHZlG7iIDhIv"
   ],
   "name": "師大_計算機課程",
   "provenance": []
  },
  "kernelspec": {
   "display_name": "Python 3",
   "language": "python",
   "name": "python3"
  },
  "language_info": {
   "codemirror_mode": {
    "name": "ipython",
    "version": 3
   },
   "file_extension": ".py",
   "mimetype": "text/x-python",
   "name": "python",
   "nbconvert_exporter": "python",
   "pygments_lexer": "ipython3",
   "version": "3.7.3"
  },
  "widgets": {
   "application/vnd.jupyter.widget-state+json": {
    "01d17ce4098248aeb9c9fc25f6d77cc7": {
     "model_module": "@jupyter-widgets/base",
     "model_name": "LayoutModel",
     "state": {
      "_model_module": "@jupyter-widgets/base",
      "_model_module_version": "1.2.0",
      "_model_name": "LayoutModel",
      "_view_count": null,
      "_view_module": "@jupyter-widgets/base",
      "_view_module_version": "1.2.0",
      "_view_name": "LayoutView",
      "align_content": null,
      "align_items": null,
      "align_self": null,
      "border": null,
      "bottom": null,
      "display": null,
      "flex": null,
      "flex_flow": null,
      "grid_area": null,
      "grid_auto_columns": null,
      "grid_auto_flow": null,
      "grid_auto_rows": null,
      "grid_column": null,
      "grid_gap": null,
      "grid_row": null,
      "grid_template_areas": null,
      "grid_template_columns": null,
      "grid_template_rows": null,
      "height": null,
      "justify_content": null,
      "justify_items": null,
      "left": null,
      "margin": null,
      "max_height": null,
      "max_width": null,
      "min_height": null,
      "min_width": null,
      "object_fit": null,
      "object_position": null,
      "order": null,
      "overflow": null,
      "overflow_x": null,
      "overflow_y": null,
      "padding": null,
      "right": null,
      "top": null,
      "visibility": null,
      "width": null
     }
    },
    "060a9e7a219f473d85f95743ea87668d": {
     "model_module": "@jupyter-widgets/output",
     "model_name": "OutputModel",
     "state": {
      "_dom_classes": [],
      "_model_module": "@jupyter-widgets/output",
      "_model_module_version": "1.0.0",
      "_model_name": "OutputModel",
      "_view_count": null,
      "_view_module": "@jupyter-widgets/output",
      "_view_module_version": "1.0.0",
      "_view_name": "OutputView",
      "layout": "IPY_MODEL_8e696bbdd4444a5c8b1c6268d711eced",
      "msg_id": "",
      "outputs": [
       {
        "metadata": {
         "tags": []
        },
        "output_type": "stream",
        "stream": "stdout",
        "text": "1.0\n"
       },
       {
        "image/png": "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\n",
        "metadata": {
         "needs_background": "light",
         "tags": []
        },
        "output_type": "display_data",
        "text/plain": "<Figure size 432x288 with 1 Axes>"
       }
      ]
     }
    },
    "5d251153dc4948769d7f5b8ffe1d8023": {
     "model_module": "@jupyter-widgets/controls",
     "model_name": "VBoxModel",
     "state": {
      "_dom_classes": [
       "widget-interact"
      ],
      "_model_module": "@jupyter-widgets/controls",
      "_model_module_version": "1.5.0",
      "_model_name": "VBoxModel",
      "_view_count": null,
      "_view_module": "@jupyter-widgets/controls",
      "_view_module_version": "1.5.0",
      "_view_name": "VBoxView",
      "box_style": "",
      "children": [
       "IPY_MODEL_85e372af91304760bf724a298891c3ed",
       "IPY_MODEL_060a9e7a219f473d85f95743ea87668d"
      ],
      "layout": "IPY_MODEL_fc7a7bcdb0e64acbb873355459f902d7"
     }
    },
    "5f379b4476314b9990f8b124fd8b855b": {
     "model_module": "@jupyter-widgets/controls",
     "model_name": "SliderStyleModel",
     "state": {
      "_model_module": "@jupyter-widgets/controls",
      "_model_module_version": "1.5.0",
      "_model_name": "SliderStyleModel",
      "_view_count": null,
      "_view_module": "@jupyter-widgets/base",
      "_view_module_version": "1.2.0",
      "_view_name": "StyleView",
      "description_width": "",
      "handle_color": null
     }
    },
    "85e372af91304760bf724a298891c3ed": {
     "model_module": "@jupyter-widgets/controls",
     "model_name": "FloatSliderModel",
     "state": {
      "_dom_classes": [],
      "_model_module": "@jupyter-widgets/controls",
      "_model_module_version": "1.5.0",
      "_model_name": "FloatSliderModel",
      "_view_count": null,
      "_view_module": "@jupyter-widgets/controls",
      "_view_module_version": "1.5.0",
      "_view_name": "FloatSliderView",
      "continuous_update": true,
      "description": "draw_theta",
      "description_tooltip": null,
      "disabled": false,
      "layout": "IPY_MODEL_01d17ce4098248aeb9c9fc25f6d77cc7",
      "max": 3,
      "min": 0,
      "orientation": "horizontal",
      "readout": true,
      "readout_format": ".2f",
      "step": 0.01,
      "style": "IPY_MODEL_5f379b4476314b9990f8b124fd8b855b",
      "value": 1
     }
    },
    "8e696bbdd4444a5c8b1c6268d711eced": {
     "model_module": "@jupyter-widgets/base",
     "model_name": "LayoutModel",
     "state": {
      "_model_module": "@jupyter-widgets/base",
      "_model_module_version": "1.2.0",
      "_model_name": "LayoutModel",
      "_view_count": null,
      "_view_module": "@jupyter-widgets/base",
      "_view_module_version": "1.2.0",
      "_view_name": "LayoutView",
      "align_content": null,
      "align_items": null,
      "align_self": null,
      "border": null,
      "bottom": null,
      "display": null,
      "flex": null,
      "flex_flow": null,
      "grid_area": null,
      "grid_auto_columns": null,
      "grid_auto_flow": null,
      "grid_auto_rows": null,
      "grid_column": null,
      "grid_gap": null,
      "grid_row": null,
      "grid_template_areas": null,
      "grid_template_columns": null,
      "grid_template_rows": null,
      "height": null,
      "justify_content": null,
      "justify_items": null,
      "left": null,
      "margin": null,
      "max_height": null,
      "max_width": null,
      "min_height": null,
      "min_width": null,
      "object_fit": null,
      "object_position": null,
      "order": null,
      "overflow": null,
      "overflow_x": null,
      "overflow_y": null,
      "padding": null,
      "right": null,
      "top": null,
      "visibility": null,
      "width": null
     }
    },
    "fc7a7bcdb0e64acbb873355459f902d7": {
     "model_module": "@jupyter-widgets/base",
     "model_name": "LayoutModel",
     "state": {
      "_model_module": "@jupyter-widgets/base",
      "_model_module_version": "1.2.0",
      "_model_name": "LayoutModel",
      "_view_count": null,
      "_view_module": "@jupyter-widgets/base",
      "_view_module_version": "1.2.0",
      "_view_name": "LayoutView",
      "align_content": null,
      "align_items": null,
      "align_self": null,
      "border": null,
      "bottom": null,
      "display": null,
      "flex": null,
      "flex_flow": null,
      "grid_area": null,
      "grid_auto_columns": null,
      "grid_auto_flow": null,
      "grid_auto_rows": null,
      "grid_column": null,
      "grid_gap": null,
      "grid_row": null,
      "grid_template_areas": null,
      "grid_template_columns": null,
      "grid_template_rows": null,
      "height": null,
      "justify_content": null,
      "justify_items": null,
      "left": null,
      "margin": null,
      "max_height": null,
      "max_width": null,
      "min_height": null,
      "min_width": null,
      "object_fit": null,
      "object_position": null,
      "order": null,
      "overflow": null,
      "overflow_x": null,
      "overflow_y": null,
      "padding": null,
      "right": null,
      "top": null,
      "visibility": null,
      "width": null
     }
    }
   }
  }
 },
 "nbformat": 4,
 "nbformat_minor": 1
}
